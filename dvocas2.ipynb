{
 "cells": [
  {
   "metadata": {},
   "cell_type": "markdown",
   "source": [
    "# Rad sa izuzecima i standardnom bibliotekom\n",
    "U prvom delu notebooka prikazani su osnovni koncepti rada sa izuzecima, kao i korišćenje ugrađenih funkcija i modula iz standardne biblioteke."
   ],
   "id": "e0d923912f2e1fb5"
  },
  {
   "metadata": {
    "collapsed": true
   },
   "cell_type": "code",
   "outputs": [],
   "execution_count": null,
   "source": [
    "# Rad sa izuzecima\n",
    "\n",
    "# Hvatanje izuzetka (try-except)\n",
    "\n",
    "# 1. način - osnovno hvatanje greške bez detalja\n",
    "\n",
    "# 2. način - hvatanje greške i prikaz poruke iz objekta greške\n",
    "\n",
    "# 3. način - prikaz celog traceback-a (detaljan opis greške)\n"
   ],
   "id": "initial_id"
  },
  {
   "metadata": {},
   "cell_type": "code",
   "outputs": [],
   "execution_count": null,
   "source": "# Except blok bez navodjenja tipa izuzetka\n",
   "id": "b2a69f6b8ea290b1"
  },
  {
   "metadata": {},
   "cell_type": "code",
   "outputs": [],
   "execution_count": null,
   "source": "# Više except blokova\n",
   "id": "c073caa95e709980"
  },
  {
   "metadata": {},
   "cell_type": "code",
   "outputs": [],
   "execution_count": null,
   "source": "# Finally blok\n",
   "id": "1d11baa71d498e61"
  },
  {
   "metadata": {},
   "cell_type": "code",
   "outputs": [],
   "execution_count": null,
   "source": [
    "# Rad sa datumima i vremenom (datetime modul)\n",
    "\n",
    "# Trenutni datum i vreme\n",
    "\n",
    "# Izvlačenje trenutnog datuma\n",
    "\n",
    "# Definisanje konkretnog datuma\n",
    "\n",
    "# Definisanje konkretnog vremena\n",
    "\n",
    "# Definisanje konkretnog datetime objekta\n"
   ],
   "id": "8a2ab0a772fd74f4"
  },
  {
   "metadata": {},
   "cell_type": "code",
   "outputs": [],
   "execution_count": null,
   "source": "# str() funkcija – pretvara bilo koji objekat u njegovu tekstualnu (string) reprezentaciju\n",
   "id": "f7103602d8cfa8f4"
  },
  {
   "metadata": {},
   "cell_type": "code",
   "outputs": [],
   "execution_count": null,
   "source": "# type() funkcija - vraća tip podatka prosleđene vrednosti\n",
   "id": "6876b7b429a4e086"
  },
  {
   "metadata": {},
   "cell_type": "markdown",
   "source": [
    "# Rad sa podacima u Pandasu\n",
    " Ovi primeri proširuju postojeći notebook kratkim uvodom u rad sa bibliotekama `pandas` i `matplotlib`."
   ],
   "id": "ed760eec4eaea29d"
  },
  {
   "metadata": {},
   "cell_type": "markdown",
   "source": [
    "1. Učitavanje CSV fajla pomoću `Path` i `pandas`\n",
    "- Kreiramo konstantu `DATA_DIR` do direktorijuma sa podacima.\n",
    "- Učitavamo fajl **Sales_January_2019.csv** koji sadrži kolone:\n",
    "   `Order ID`, `Product`, `Quantity Ordered`, `Price Each`, `Order Date`, `Purchase Address`."
   ],
   "id": "6960f2a990587bec"
  },
  {
   "metadata": {},
   "cell_type": "code",
   "outputs": [],
   "execution_count": null,
   "source": "# Importovanje potrebnih biblioteka za rad sa podacima i grafikonima\n",
   "id": "fc010069e6778256"
  },
  {
   "metadata": {},
   "cell_type": "code",
   "outputs": [],
   "execution_count": null,
   "source": "# Putanja do direktorijuma sa podacima: /data/sales_data u okviru projekta\n",
   "id": "33464a876d587ef3"
  },
  {
   "metadata": {},
   "cell_type": "code",
   "outputs": [],
   "execution_count": null,
   "source": [
    "# Učitati podatke za januar 2019.\n",
    "\n",
    "# Prikazati prvih 5 redova\n"
   ],
   "id": "6ecc692d9867fb12"
  },
  {
   "metadata": {},
   "cell_type": "markdown",
   "source": [
    "# Brzi pregled strukture DataFrame‑a\n",
    "Korisne metode za brzi uvid:\n",
    "* `info()` – osnovne informacije o kolonama i tipovima podataka\n",
    "* `shape` – dimenzije DataFrame‑a (redovi, kolone)\n",
    "* `describe()` – statistika za numeričke kolone\n",
    "* `sample()` – slučajni uzorak redova\n",
    "* `value_counts()` – distribucija vrednosti u koloni"
   ],
   "id": "8c3a671c16d73467"
  },
  {
   "metadata": {},
   "cell_type": "code",
   "outputs": [],
   "execution_count": null,
   "source": "# Informacije o kolonama i nedostajućim vrednostima\n",
   "id": "a14c54135130867a"
  },
  {
   "metadata": {},
   "cell_type": "code",
   "outputs": [],
   "execution_count": null,
   "source": "# Deskriptivna statistika\n",
   "id": "c9baea90b94f83ea"
  },
  {
   "metadata": {},
   "cell_type": "code",
   "outputs": [],
   "execution_count": null,
   "source": "# Slučajnih 3 reda\n",
   "id": "9ad4e6378a656c92"
  },
  {
   "metadata": {},
   "cell_type": "code",
   "outputs": [],
   "execution_count": null,
   "source": "# Distribucija proizvoda (Top 5)\n",
   "id": "7bd21875168df55b"
  },
  {
   "metadata": {},
   "cell_type": "markdown",
   "source": [
    "# 3. Čišćenje i konverzija tipova podataka\n",
    "Originalni CSV sadrži sve vrednosti kao stringove. Pretvoriti u odgovarajuće tipove:\n",
    "* `Order Date` → `datetime`\n",
    "* `Quantity Ordered`, `Price Each` → `int` / `float`\n",
    "\n",
    "Takođe kolonu `Product` pretvoriti u **kategorijsku** promenljivu kako bi se smanjila potrošnja memorije."
   ],
   "id": "ec4db7f88ec51364"
  },
  {
   "metadata": {},
   "cell_type": "code",
   "outputs": [],
   "execution_count": null,
   "source": "# Konverzija kolona uz ignorisanje grešaka (nevažeći redovi biće NaN)\n",
   "id": "b77071c243240828"
  },
  {
   "metadata": {},
   "cell_type": "code",
   "outputs": [],
   "execution_count": null,
   "source": "# Produkt kao kategorija\n",
   "id": "4fc3dbf7153ccf2b"
  },
  {
   "metadata": {},
   "cell_type": "markdown",
   "source": [
    "# 4. Primeri analize podataka\n",
    "**a) Top 10 proizvoda po broju prodatih jedinica**\n",
    "\n",
    "**b) Dnevni prihod tokom januara 2019.**"
   ],
   "id": "87b1a72ee8770651"
  },
  {
   "metadata": {},
   "cell_type": "code",
   "outputs": [],
   "execution_count": null,
   "source": "# a) Top 10 proizvoda po broju prodatih jedinica\n",
   "id": "cecfb4a808284219"
  },
  {
   "metadata": {},
   "cell_type": "code",
   "outputs": [],
   "execution_count": null,
   "source": "# b) Dnevni prihod tokom januara 2019\n",
   "id": "1303b28f7f5bc3e9"
  },
  {
   "metadata": {},
   "cell_type": "markdown",
   "source": [
    "### 5. Rezime – ključne razlike tipova podataka\n",
    "\n",
    "| Python tip            | Pandas ekvivalent        | Napomena                                             |\n",
    "|-----------------------|--------------------------|------------------------------------------------------|\n",
    "| `int`, `float`, `str` | `int64`, `float64`, `object` | Osnovni skalarni tipovi                         |\n",
    "| `list` / `dict`       | `object`                 | Unutar ćelije – izbegavati za analizu               |\n",
    "| `datetime`            | `datetime64[ns]`         | Efikasno čuvanje datuma i vremena                   |\n",
    "| –                     | `category`               | Diskretni skup vrednosti, manja memorija i brže grupisanje |\n",
    "| `bool`                | `bool`                   | `True` / `False` vrednosti                          |"
   ],
   "id": "d910096c13382c41"
  }
 ],
 "metadata": {
  "kernelspec": {
   "display_name": "Python 3",
   "language": "python",
   "name": "python3"
  },
  "language_info": {
   "codemirror_mode": {
    "name": "ipython",
    "version": 2
   },
   "file_extension": ".py",
   "mimetype": "text/x-python",
   "name": "python",
   "nbconvert_exporter": "python",
   "pygments_lexer": "ipython2",
   "version": "2.7.6"
  }
 },
 "nbformat": 4,
 "nbformat_minor": 5
}
